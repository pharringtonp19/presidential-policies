{
  "nbformat": 4,
  "nbformat_minor": 0,
  "metadata": {
    "colab": {
      "provenance": [],
      "authorship_tag": "ABX9TyNPEYmydOqbTzx94cdydiBL",
      "include_colab_link": true
    },
    "kernelspec": {
      "name": "python3",
      "display_name": "Python 3"
    },
    "language_info": {
      "name": "python"
    }
  },
  "cells": [
    {
      "cell_type": "markdown",
      "metadata": {
        "id": "view-in-github",
        "colab_type": "text"
      },
      "source": [
        "<a href=\"https://colab.research.google.com/github/pharringtonp19/presidential-policies/blob/main/notebooks/DefenseSpending.ipynb\" target=\"_parent\"><img src=\"https://colab.research.google.com/assets/colab-badge.svg\" alt=\"Open In Colab\"/></a>"
      ]
    },
    {
      "cell_type": "code",
      "source": [
        "import os\n",
        "import pandas as pd\n",
        "import pandas_datareader.data as web\n",
        "import matplotlib.pyplot as plt\n",
        "import datetime\n",
        "from google.colab import userdata\n",
        "from matplotlib import font_manager\n",
        "import matplotlib.dates as mdates\n",
        "import matplotlib as mpl\n",
        "from matplotlib import pyplot as plt\n",
        "from matplotlib import rcParams\n",
        "rcParams['image.interpolation'] = 'nearest'\n",
        "rcParams['image.cmap'] = 'viridis'\n",
        "rcParams['axes.grid'] = False\n",
        "%matplotlib inline\n",
        "%config InlineBackend.figure_format = 'svg'"
      ],
      "metadata": {
        "id": "T0AK80W5Mpmz"
      },
      "execution_count": 1,
      "outputs": []
    },
    {
      "cell_type": "code",
      "source": [
        "import pandas_datareader.data as web\n",
        "import datetime\n",
        "\n",
        "start, end = datetime.datetime(1959, 1, 1), datetime.datetime(1970, 12, 31)\n",
        "\n",
        "# Nominal defense spending\n",
        "defense_nom = web.DataReader(\"FDEFX\", \"fred\", start, end)\n",
        "\n",
        "# Defense deflator (2017=100)\n",
        "defense_deflator = web.DataReader(\"A822RD3Q086SBEA\", \"fred\", start, end)\n",
        "\n",
        "# Convert to real (billions of chained 2017 $)\n",
        "defense_real_calc = (defense_nom[\"FDEFX\"] / defense_deflator[\"A822RD3Q086SBEA\"]) * 100\n",
        "defense_real_calc.head()"
      ],
      "metadata": {
        "id": "ufz0JIAOMv99",
        "outputId": "7a84cfd5-e6f1-4a51-9d04-d5a31e55d26d",
        "colab": {
          "base_uri": "https://localhost:8080/",
          "height": 272
        }
      },
      "execution_count": 2,
      "outputs": [
        {
          "output_type": "execute_result",
          "data": {
            "text/plain": [
              "DATE\n",
              "1959-01-01    596.109594\n",
              "1959-04-01    588.367327\n",
              "1959-07-01    599.414234\n",
              "1959-10-01    594.634670\n",
              "1960-01-01    583.720704\n",
              "dtype: float64"
            ],
            "text/html": [
              "<div>\n",
              "<style scoped>\n",
              "    .dataframe tbody tr th:only-of-type {\n",
              "        vertical-align: middle;\n",
              "    }\n",
              "\n",
              "    .dataframe tbody tr th {\n",
              "        vertical-align: top;\n",
              "    }\n",
              "\n",
              "    .dataframe thead th {\n",
              "        text-align: right;\n",
              "    }\n",
              "</style>\n",
              "<table border=\"1\" class=\"dataframe\">\n",
              "  <thead>\n",
              "    <tr style=\"text-align: right;\">\n",
              "      <th></th>\n",
              "      <th>0</th>\n",
              "    </tr>\n",
              "    <tr>\n",
              "      <th>DATE</th>\n",
              "      <th></th>\n",
              "    </tr>\n",
              "  </thead>\n",
              "  <tbody>\n",
              "    <tr>\n",
              "      <th>1959-01-01</th>\n",
              "      <td>596.109594</td>\n",
              "    </tr>\n",
              "    <tr>\n",
              "      <th>1959-04-01</th>\n",
              "      <td>588.367327</td>\n",
              "    </tr>\n",
              "    <tr>\n",
              "      <th>1959-07-01</th>\n",
              "      <td>599.414234</td>\n",
              "    </tr>\n",
              "    <tr>\n",
              "      <th>1959-10-01</th>\n",
              "      <td>594.634670</td>\n",
              "    </tr>\n",
              "    <tr>\n",
              "      <th>1960-01-01</th>\n",
              "      <td>583.720704</td>\n",
              "    </tr>\n",
              "  </tbody>\n",
              "</table>\n",
              "</div><br><label><b>dtype:</b> float64</label>"
            ]
          },
          "metadata": {},
          "execution_count": 2
        }
      ]
    },
    {
      "cell_type": "code",
      "source": [
        "x, y = defense_real_calc.index, defense_real_calc.values\n",
        "\n",
        "# --- NYT-style colors ---\n",
        "line_color = '#1f77b4'\n",
        "fill_color = \"#e6f1fb\"\n",
        "forecast_fill = \"#dfeaf7\"\n",
        "grid_color = '#e6e6e6'\n",
        "\n",
        "fig, ax = plt.subplots(figsize=(7, 4.5), dpi=300)\n",
        "ax.set_facecolor(\"white\")\n",
        "fig.patch.set_facecolor(\"white\")\n",
        "\n",
        "# area + line\n",
        "ax.fill_between(x, 0, y, color=fill_color, linewidth=0, zorder=1, alpha=0.6)\n",
        "ax.yaxis.grid(True, color=grid_color, linewidth=.5, zorder=2)\n",
        "ax.plot(x, y, color=line_color, linewidth=1, zorder=3,\n",
        "        solid_capstyle=\"round\", solid_joinstyle=\"round\")\n",
        "\n",
        "# spines & ticks (keep only a subtle bottom spine)\n",
        "for side in (\"top\", \"left\", \"right\"):\n",
        "    ax.spines[side].set_visible(False)\n",
        "ax.spines[\"bottom\"].set_color(\"#bdbdbd\")\n",
        "ax.spines[\"bottom\"].set_linewidth(1)\n",
        "\n",
        "ax.tick_params(axis=\"x\", length=2, labelsize=9, pad=2)\n",
        "ax.tick_params(axis=\"y\", length=0, labelsize=9, pad=2)\n",
        "\n",
        "# tidy limits\n",
        "ax.set_ylim(0, max(y)*1.10)\n",
        "ax.set_axisbelow(True)            # any future gridlines stay behind\n",
        "\n",
        "# title + subtitle (left-aligned)\n",
        "ax.text(0., 1.04, s='Real Defense Spending', transform=ax.transAxes, size=14)\n",
        "ax.text(0, 1.00, \"Billions\", transform=ax.transAxes,\n",
        "        fontsize=9, color=\"#555555\")\n",
        "\n",
        "ax.annotate(\"U.S. Bureau of Economic Analysis via FRED\",\n",
        "        xy = (0., -0.1),\n",
        "        xycoords='axes fraction',\n",
        "        ha='left',\n",
        "        va=\"center\",\n",
        "        fontsize=8)\n",
        "\n",
        "fig.savefig(\"real_def.png\", bbox_inches=\"tight\", dpi=300)\n",
        "plt.show()"
      ],
      "metadata": {
        "colab": {
          "base_uri": "https://localhost:8080/",
          "height": 440
        },
        "id": "D_r6__u_M0Ow",
        "outputId": "6cec733d-a8be-481e-9ffd-e3e8092272a2"
      },
      "execution_count": 3,
      "outputs": [
        {
          "output_type": "display_data",
          "data": {
            "text/plain": [
              "<Figure size 2100x1350 with 1 Axes>"
            ],
            "image/svg+xml": "<?xml version=\"1.0\" encoding=\"utf-8\" standalone=\"no\"?>\n<!DOCTYPE svg PUBLIC \"-//W3C//DTD SVG 1.1//EN\"\n  \"http://www.w3.org/Graphics/SVG/1.1/DTD/svg11.dtd\">\n<svg xmlns:xlink=\"http://www.w3.org/1999/xlink\" width=\"424.17875pt\" height=\"313.316262pt\" viewBox=\"0 0 424.17875 313.316262\" xmlns=\"http://www.w3.org/2000/svg\" version=\"1.1\">\n <metadata>\n  <rdf:RDF xmlns:dc=\"http://purl.org/dc/elements/1.1/\" xmlns:cc=\"http://creativecommons.org/ns#\" xmlns:rdf=\"http://www.w3.org/1999/02/22-rdf-syntax-ns#\">\n   <cc:Work>\n    <dc:type rdf:resource=\"http://purl.org/dc/dcmitype/StillImage\"/>\n    <dc:date>2025-09-14T19:40:25.706667</dc:date>\n    <dc:format>image/svg+xml</dc:format>\n    <dc:creator>\n     <cc:Agent>\n      <dc:title>Matplotlib v3.10.0, https://matplotlib.org/</dc:title>\n     </cc:Agent>\n    </dc:creator>\n   </cc:Work>\n  </rdf:RDF>\n </metadata>\n <defs>\n  <style type=\"text/css\">*{stroke-linejoin: round; stroke-linecap: butt}</style>\n </defs>\n <g id=\"figure_1\">\n  <g id=\"patch_1\">\n   <path d=\"M 0 313.316262 \nL 424.17875 313.316262 \nL 424.17875 0 \nL 0 0 \nz\n\" style=\"fill: #ffffff\"/>\n  </g>\n  <g id=\"axes_1\">\n   <g id=\"patch_2\">\n    <path d=\"M 26.37875 277.297012 \nL 416.97875 277.297012 \nL 416.97875 27.817012 \nL 26.37875 27.817012 \nz\n\" style=\"fill: #ffffff\"/>\n   </g>\n   <g id=\"matplotlib.axis_1\">\n    <g id=\"xtick_1\">\n     <g id=\"line2d_1\">\n      <defs>\n       <path id=\"mc4248c08b6\" d=\"M 0 0 \nL 0 2 \n\" style=\"stroke: #000000; stroke-width: 0.8\"/>\n      </defs>\n      <g>\n       <use xlink:href=\"#mc4248c08b6\" x=\"74.337952\" y=\"277.297012\" style=\"stroke: #000000; stroke-width: 0.8\"/>\n      </g>\n     </g>\n     <g id=\"text_1\">\n      <!-- 1960 -->\n      <g transform=\"translate(62.885452 288.135606) scale(0.09 -0.09)\">\n       <defs>\n        <path id=\"DejaVuSans-31\" d=\"M 794 531 \nL 1825 531 \nL 1825 4091 \nL 703 3866 \nL 703 4441 \nL 1819 4666 \nL 2450 4666 \nL 2450 531 \nL 3481 531 \nL 3481 0 \nL 794 0 \nL 794 531 \nz\n\" transform=\"scale(0.015625)\"/>\n        <path id=\"DejaVuSans-39\" d=\"M 703 97 \nL 703 672 \nQ 941 559 1184 500 \nQ 1428 441 1663 441 \nQ 2288 441 2617 861 \nQ 2947 1281 2994 2138 \nQ 2813 1869 2534 1725 \nQ 2256 1581 1919 1581 \nQ 1219 1581 811 2004 \nQ 403 2428 403 3163 \nQ 403 3881 828 4315 \nQ 1253 4750 1959 4750 \nQ 2769 4750 3195 4129 \nQ 3622 3509 3622 2328 \nQ 3622 1225 3098 567 \nQ 2575 -91 1691 -91 \nQ 1453 -91 1209 -44 \nQ 966 3 703 97 \nz\nM 1959 2075 \nQ 2384 2075 2632 2365 \nQ 2881 2656 2881 3163 \nQ 2881 3666 2632 3958 \nQ 2384 4250 1959 4250 \nQ 1534 4250 1286 3958 \nQ 1038 3666 1038 3163 \nQ 1038 2656 1286 2365 \nQ 1534 2075 1959 2075 \nz\n\" transform=\"scale(0.015625)\"/>\n        <path id=\"DejaVuSans-36\" d=\"M 2113 2584 \nQ 1688 2584 1439 2293 \nQ 1191 2003 1191 1497 \nQ 1191 994 1439 701 \nQ 1688 409 2113 409 \nQ 2538 409 2786 701 \nQ 3034 994 3034 1497 \nQ 3034 2003 2786 2293 \nQ 2538 2584 2113 2584 \nz\nM 3366 4563 \nL 3366 3988 \nQ 3128 4100 2886 4159 \nQ 2644 4219 2406 4219 \nQ 1781 4219 1451 3797 \nQ 1122 3375 1075 2522 \nQ 1259 2794 1537 2939 \nQ 1816 3084 2150 3084 \nQ 2853 3084 3261 2657 \nQ 3669 2231 3669 1497 \nQ 3669 778 3244 343 \nQ 2819 -91 2113 -91 \nQ 1303 -91 875 529 \nQ 447 1150 447 2328 \nQ 447 3434 972 4092 \nQ 1497 4750 2381 4750 \nQ 2619 4750 2861 4703 \nQ 3103 4656 3366 4563 \nz\n\" transform=\"scale(0.015625)\"/>\n        <path id=\"DejaVuSans-30\" d=\"M 2034 4250 \nQ 1547 4250 1301 3770 \nQ 1056 3291 1056 2328 \nQ 1056 1369 1301 889 \nQ 1547 409 2034 409 \nQ 2525 409 2770 889 \nQ 3016 1369 3016 2328 \nQ 3016 3291 2770 3770 \nQ 2525 4250 2034 4250 \nz\nM 2034 4750 \nQ 2819 4750 3233 4129 \nQ 3647 3509 3647 2328 \nQ 3647 1150 3233 529 \nQ 2819 -91 2034 -91 \nQ 1250 -91 836 529 \nQ 422 1150 422 2328 \nQ 422 3509 836 4129 \nQ 1250 4750 2034 4750 \nz\n\" transform=\"scale(0.015625)\"/>\n       </defs>\n       <use xlink:href=\"#DejaVuSans-31\"/>\n       <use xlink:href=\"#DejaVuSans-39\" transform=\"translate(63.623047 0)\"/>\n       <use xlink:href=\"#DejaVuSans-36\" transform=\"translate(127.246094 0)\"/>\n       <use xlink:href=\"#DejaVuSans-30\" transform=\"translate(190.869141 0)\"/>\n      </g>\n     </g>\n    </g>\n    <g id=\"xtick_2\">\n     <g id=\"line2d_2\">\n      <g>\n       <use xlink:href=\"#mc4248c08b6\" x=\"134.830018\" y=\"277.297012\" style=\"stroke: #000000; stroke-width: 0.8\"/>\n      </g>\n     </g>\n     <g id=\"text_2\">\n      <!-- 1962 -->\n      <g transform=\"translate(123.377518 288.135606) scale(0.09 -0.09)\">\n       <defs>\n        <path id=\"DejaVuSans-32\" d=\"M 1228 531 \nL 3431 531 \nL 3431 0 \nL 469 0 \nL 469 531 \nQ 828 903 1448 1529 \nQ 2069 2156 2228 2338 \nQ 2531 2678 2651 2914 \nQ 2772 3150 2772 3378 \nQ 2772 3750 2511 3984 \nQ 2250 4219 1831 4219 \nQ 1534 4219 1204 4116 \nQ 875 4013 500 3803 \nL 500 4441 \nQ 881 4594 1212 4672 \nQ 1544 4750 1819 4750 \nQ 2544 4750 2975 4387 \nQ 3406 4025 3406 3419 \nQ 3406 3131 3298 2873 \nQ 3191 2616 2906 2266 \nQ 2828 2175 2409 1742 \nQ 1991 1309 1228 531 \nz\n\" transform=\"scale(0.015625)\"/>\n       </defs>\n       <use xlink:href=\"#DejaVuSans-31\"/>\n       <use xlink:href=\"#DejaVuSans-39\" transform=\"translate(63.623047 0)\"/>\n       <use xlink:href=\"#DejaVuSans-36\" transform=\"translate(127.246094 0)\"/>\n       <use xlink:href=\"#DejaVuSans-32\" transform=\"translate(190.869141 0)\"/>\n      </g>\n     </g>\n    </g>\n    <g id=\"xtick_3\">\n     <g id=\"line2d_3\">\n      <g>\n       <use xlink:href=\"#mc4248c08b6\" x=\"195.239331\" y=\"277.297012\" style=\"stroke: #000000; stroke-width: 0.8\"/>\n      </g>\n     </g>\n     <g id=\"text_3\">\n      <!-- 1964 -->\n      <g transform=\"translate(183.786831 288.135606) scale(0.09 -0.09)\">\n       <defs>\n        <path id=\"DejaVuSans-34\" d=\"M 2419 4116 \nL 825 1625 \nL 2419 1625 \nL 2419 4116 \nz\nM 2253 4666 \nL 3047 4666 \nL 3047 1625 \nL 3713 1625 \nL 3713 1100 \nL 3047 1100 \nL 3047 0 \nL 2419 0 \nL 2419 1100 \nL 313 1100 \nL 313 1709 \nL 2253 4666 \nz\n\" transform=\"scale(0.015625)\"/>\n       </defs>\n       <use xlink:href=\"#DejaVuSans-31\"/>\n       <use xlink:href=\"#DejaVuSans-39\" transform=\"translate(63.623047 0)\"/>\n       <use xlink:href=\"#DejaVuSans-36\" transform=\"translate(127.246094 0)\"/>\n       <use xlink:href=\"#DejaVuSans-34\" transform=\"translate(190.869141 0)\"/>\n      </g>\n     </g>\n    </g>\n    <g id=\"xtick_4\">\n     <g id=\"line2d_4\">\n      <g>\n       <use xlink:href=\"#mc4248c08b6\" x=\"255.731397\" y=\"277.297012\" style=\"stroke: #000000; stroke-width: 0.8\"/>\n      </g>\n     </g>\n     <g id=\"text_4\">\n      <!-- 1966 -->\n      <g transform=\"translate(244.278897 288.135606) scale(0.09 -0.09)\">\n       <use xlink:href=\"#DejaVuSans-31\"/>\n       <use xlink:href=\"#DejaVuSans-39\" transform=\"translate(63.623047 0)\"/>\n       <use xlink:href=\"#DejaVuSans-36\" transform=\"translate(127.246094 0)\"/>\n       <use xlink:href=\"#DejaVuSans-36\" transform=\"translate(190.869141 0)\"/>\n      </g>\n     </g>\n    </g>\n    <g id=\"xtick_5\">\n     <g id=\"line2d_5\">\n      <g>\n       <use xlink:href=\"#mc4248c08b6\" x=\"316.140711\" y=\"277.297012\" style=\"stroke: #000000; stroke-width: 0.8\"/>\n      </g>\n     </g>\n     <g id=\"text_5\">\n      <!-- 1968 -->\n      <g transform=\"translate(304.688211 288.135606) scale(0.09 -0.09)\">\n       <defs>\n        <path id=\"DejaVuSans-38\" d=\"M 2034 2216 \nQ 1584 2216 1326 1975 \nQ 1069 1734 1069 1313 \nQ 1069 891 1326 650 \nQ 1584 409 2034 409 \nQ 2484 409 2743 651 \nQ 3003 894 3003 1313 \nQ 3003 1734 2745 1975 \nQ 2488 2216 2034 2216 \nz\nM 1403 2484 \nQ 997 2584 770 2862 \nQ 544 3141 544 3541 \nQ 544 4100 942 4425 \nQ 1341 4750 2034 4750 \nQ 2731 4750 3128 4425 \nQ 3525 4100 3525 3541 \nQ 3525 3141 3298 2862 \nQ 3072 2584 2669 2484 \nQ 3125 2378 3379 2068 \nQ 3634 1759 3634 1313 \nQ 3634 634 3220 271 \nQ 2806 -91 2034 -91 \nQ 1263 -91 848 271 \nQ 434 634 434 1313 \nQ 434 1759 690 2068 \nQ 947 2378 1403 2484 \nz\nM 1172 3481 \nQ 1172 3119 1398 2916 \nQ 1625 2713 2034 2713 \nQ 2441 2713 2670 2916 \nQ 2900 3119 2900 3481 \nQ 2900 3844 2670 4047 \nQ 2441 4250 2034 4250 \nQ 1625 4250 1398 4047 \nQ 1172 3844 1172 3481 \nz\n\" transform=\"scale(0.015625)\"/>\n       </defs>\n       <use xlink:href=\"#DejaVuSans-31\"/>\n       <use xlink:href=\"#DejaVuSans-39\" transform=\"translate(63.623047 0)\"/>\n       <use xlink:href=\"#DejaVuSans-36\" transform=\"translate(127.246094 0)\"/>\n       <use xlink:href=\"#DejaVuSans-38\" transform=\"translate(190.869141 0)\"/>\n      </g>\n     </g>\n    </g>\n    <g id=\"xtick_6\">\n     <g id=\"line2d_6\">\n      <g>\n       <use xlink:href=\"#mc4248c08b6\" x=\"376.632776\" y=\"277.297012\" style=\"stroke: #000000; stroke-width: 0.8\"/>\n      </g>\n     </g>\n     <g id=\"text_6\">\n      <!-- 1970 -->\n      <g transform=\"translate(365.180276 288.135606) scale(0.09 -0.09)\">\n       <defs>\n        <path id=\"DejaVuSans-37\" d=\"M 525 4666 \nL 3525 4666 \nL 3525 4397 \nL 1831 0 \nL 1172 0 \nL 2766 4134 \nL 525 4134 \nL 525 4666 \nz\n\" transform=\"scale(0.015625)\"/>\n       </defs>\n       <use xlink:href=\"#DejaVuSans-31\"/>\n       <use xlink:href=\"#DejaVuSans-39\" transform=\"translate(63.623047 0)\"/>\n       <use xlink:href=\"#DejaVuSans-37\" transform=\"translate(127.246094 0)\"/>\n       <use xlink:href=\"#DejaVuSans-30\" transform=\"translate(190.869141 0)\"/>\n      </g>\n     </g>\n    </g>\n   </g>\n   <g id=\"matplotlib.axis_2\">\n    <g id=\"ytick_1\">\n     <g id=\"line2d_7\">\n      <path d=\"M 26.37875 277.297012 \nL 416.97875 277.297012 \n\" clip-path=\"url(#p4d66735d84)\" style=\"fill: none; stroke: #e6e6e6; stroke-width: 0.5; stroke-linecap: square\"/>\n     </g>\n     <g id=\"line2d_8\"/>\n     <g id=\"text_7\">\n      <!-- 0 -->\n      <g transform=\"translate(18.6525 280.716309) scale(0.09 -0.09)\">\n       <use xlink:href=\"#DejaVuSans-30\"/>\n      </g>\n     </g>\n    </g>\n    <g id=\"ytick_2\">\n     <g id=\"line2d_9\">\n      <path d=\"M 26.37875 248.239829 \nL 416.97875 248.239829 \n\" clip-path=\"url(#p4d66735d84)\" style=\"fill: none; stroke: #e6e6e6; stroke-width: 0.5; stroke-linecap: square\"/>\n     </g>\n     <g id=\"line2d_10\"/>\n     <g id=\"text_8\">\n      <!-- 100 -->\n      <g transform=\"translate(7.2 251.659126) scale(0.09 -0.09)\">\n       <use xlink:href=\"#DejaVuSans-31\"/>\n       <use xlink:href=\"#DejaVuSans-30\" transform=\"translate(63.623047 0)\"/>\n       <use xlink:href=\"#DejaVuSans-30\" transform=\"translate(127.246094 0)\"/>\n      </g>\n     </g>\n    </g>\n    <g id=\"ytick_3\">\n     <g id=\"line2d_11\">\n      <path d=\"M 26.37875 219.182645 \nL 416.97875 219.182645 \n\" clip-path=\"url(#p4d66735d84)\" style=\"fill: none; stroke: #e6e6e6; stroke-width: 0.5; stroke-linecap: square\"/>\n     </g>\n     <g id=\"line2d_12\"/>\n     <g id=\"text_9\">\n      <!-- 200 -->\n      <g transform=\"translate(7.2 222.601942) scale(0.09 -0.09)\">\n       <use xlink:href=\"#DejaVuSans-32\"/>\n       <use xlink:href=\"#DejaVuSans-30\" transform=\"translate(63.623047 0)\"/>\n       <use xlink:href=\"#DejaVuSans-30\" transform=\"translate(127.246094 0)\"/>\n      </g>\n     </g>\n    </g>\n    <g id=\"ytick_4\">\n     <g id=\"line2d_13\">\n      <path d=\"M 26.37875 190.125461 \nL 416.97875 190.125461 \n\" clip-path=\"url(#p4d66735d84)\" style=\"fill: none; stroke: #e6e6e6; stroke-width: 0.5; stroke-linecap: square\"/>\n     </g>\n     <g id=\"line2d_14\"/>\n     <g id=\"text_10\">\n      <!-- 300 -->\n      <g transform=\"translate(7.2 193.544758) scale(0.09 -0.09)\">\n       <defs>\n        <path id=\"DejaVuSans-33\" d=\"M 2597 2516 \nQ 3050 2419 3304 2112 \nQ 3559 1806 3559 1356 \nQ 3559 666 3084 287 \nQ 2609 -91 1734 -91 \nQ 1441 -91 1130 -33 \nQ 819 25 488 141 \nL 488 750 \nQ 750 597 1062 519 \nQ 1375 441 1716 441 \nQ 2309 441 2620 675 \nQ 2931 909 2931 1356 \nQ 2931 1769 2642 2001 \nQ 2353 2234 1838 2234 \nL 1294 2234 \nL 1294 2753 \nL 1863 2753 \nQ 2328 2753 2575 2939 \nQ 2822 3125 2822 3475 \nQ 2822 3834 2567 4026 \nQ 2313 4219 1838 4219 \nQ 1578 4219 1281 4162 \nQ 984 4106 628 3988 \nL 628 4550 \nQ 988 4650 1302 4700 \nQ 1616 4750 1894 4750 \nQ 2613 4750 3031 4423 \nQ 3450 4097 3450 3541 \nQ 3450 3153 3228 2886 \nQ 3006 2619 2597 2516 \nz\n\" transform=\"scale(0.015625)\"/>\n       </defs>\n       <use xlink:href=\"#DejaVuSans-33\"/>\n       <use xlink:href=\"#DejaVuSans-30\" transform=\"translate(63.623047 0)\"/>\n       <use xlink:href=\"#DejaVuSans-30\" transform=\"translate(127.246094 0)\"/>\n      </g>\n     </g>\n    </g>\n    <g id=\"ytick_5\">\n     <g id=\"line2d_15\">\n      <path d=\"M 26.37875 161.068277 \nL 416.97875 161.068277 \n\" clip-path=\"url(#p4d66735d84)\" style=\"fill: none; stroke: #e6e6e6; stroke-width: 0.5; stroke-linecap: square\"/>\n     </g>\n     <g id=\"line2d_16\"/>\n     <g id=\"text_11\">\n      <!-- 400 -->\n      <g transform=\"translate(7.2 164.487574) scale(0.09 -0.09)\">\n       <use xlink:href=\"#DejaVuSans-34\"/>\n       <use xlink:href=\"#DejaVuSans-30\" transform=\"translate(63.623047 0)\"/>\n       <use xlink:href=\"#DejaVuSans-30\" transform=\"translate(127.246094 0)\"/>\n      </g>\n     </g>\n    </g>\n    <g id=\"ytick_6\">\n     <g id=\"line2d_17\">\n      <path d=\"M 26.37875 132.011093 \nL 416.97875 132.011093 \n\" clip-path=\"url(#p4d66735d84)\" style=\"fill: none; stroke: #e6e6e6; stroke-width: 0.5; stroke-linecap: square\"/>\n     </g>\n     <g id=\"line2d_18\"/>\n     <g id=\"text_12\">\n      <!-- 500 -->\n      <g transform=\"translate(7.2 135.43039) scale(0.09 -0.09)\">\n       <defs>\n        <path id=\"DejaVuSans-35\" d=\"M 691 4666 \nL 3169 4666 \nL 3169 4134 \nL 1269 4134 \nL 1269 2991 \nQ 1406 3038 1543 3061 \nQ 1681 3084 1819 3084 \nQ 2600 3084 3056 2656 \nQ 3513 2228 3513 1497 \nQ 3513 744 3044 326 \nQ 2575 -91 1722 -91 \nQ 1428 -91 1123 -41 \nQ 819 9 494 109 \nL 494 744 \nQ 775 591 1075 516 \nQ 1375 441 1709 441 \nQ 2250 441 2565 725 \nQ 2881 1009 2881 1497 \nQ 2881 1984 2565 2268 \nQ 2250 2553 1709 2553 \nQ 1456 2553 1204 2497 \nQ 953 2441 691 2322 \nL 691 4666 \nz\n\" transform=\"scale(0.015625)\"/>\n       </defs>\n       <use xlink:href=\"#DejaVuSans-35\"/>\n       <use xlink:href=\"#DejaVuSans-30\" transform=\"translate(63.623047 0)\"/>\n       <use xlink:href=\"#DejaVuSans-30\" transform=\"translate(127.246094 0)\"/>\n      </g>\n     </g>\n    </g>\n    <g id=\"ytick_7\">\n     <g id=\"line2d_19\">\n      <path d=\"M 26.37875 102.95391 \nL 416.97875 102.95391 \n\" clip-path=\"url(#p4d66735d84)\" style=\"fill: none; stroke: #e6e6e6; stroke-width: 0.5; stroke-linecap: square\"/>\n     </g>\n     <g id=\"line2d_20\"/>\n     <g id=\"text_13\">\n      <!-- 600 -->\n      <g transform=\"translate(7.2 106.373207) scale(0.09 -0.09)\">\n       <use xlink:href=\"#DejaVuSans-36\"/>\n       <use xlink:href=\"#DejaVuSans-30\" transform=\"translate(63.623047 0)\"/>\n       <use xlink:href=\"#DejaVuSans-30\" transform=\"translate(127.246094 0)\"/>\n      </g>\n     </g>\n    </g>\n    <g id=\"ytick_8\">\n     <g id=\"line2d_21\">\n      <path d=\"M 26.37875 73.896726 \nL 416.97875 73.896726 \n\" clip-path=\"url(#p4d66735d84)\" style=\"fill: none; stroke: #e6e6e6; stroke-width: 0.5; stroke-linecap: square\"/>\n     </g>\n     <g id=\"line2d_22\"/>\n     <g id=\"text_14\">\n      <!-- 700 -->\n      <g transform=\"translate(7.2 77.316023) scale(0.09 -0.09)\">\n       <use xlink:href=\"#DejaVuSans-37\"/>\n       <use xlink:href=\"#DejaVuSans-30\" transform=\"translate(63.623047 0)\"/>\n       <use xlink:href=\"#DejaVuSans-30\" transform=\"translate(127.246094 0)\"/>\n      </g>\n     </g>\n    </g>\n    <g id=\"ytick_9\">\n     <g id=\"line2d_23\">\n      <path d=\"M 26.37875 44.839542 \nL 416.97875 44.839542 \n\" clip-path=\"url(#p4d66735d84)\" style=\"fill: none; stroke: #e6e6e6; stroke-width: 0.5; stroke-linecap: square\"/>\n     </g>\n     <g id=\"line2d_24\"/>\n     <g id=\"text_15\">\n      <!-- 800 -->\n      <g transform=\"translate(7.2 48.258839) scale(0.09 -0.09)\">\n       <use xlink:href=\"#DejaVuSans-38\"/>\n       <use xlink:href=\"#DejaVuSans-30\" transform=\"translate(63.623047 0)\"/>\n       <use xlink:href=\"#DejaVuSans-30\" transform=\"translate(127.246094 0)\"/>\n      </g>\n     </g>\n    </g>\n   </g>\n   <g id=\"FillBetweenPolyCollection_1\">\n    <defs>\n     <path id=\"mbd99b5594c\" d=\"M 44.133295 -209.231911 \nL 44.133295 -36.01925 \nL 51.581019 -36.01925 \nL 59.111495 -36.01925 \nL 66.724724 -36.01925 \nL 74.337952 -36.01925 \nL 81.868428 -36.01925 \nL 89.398904 -36.01925 \nL 97.012133 -36.01925 \nL 104.625361 -36.01925 \nL 112.073085 -36.01925 \nL 119.603561 -36.01925 \nL 127.216789 -36.01925 \nL 134.830018 -36.01925 \nL 142.277742 -36.01925 \nL 149.808218 -36.01925 \nL 157.421446 -36.01925 \nL 165.034675 -36.01925 \nL 172.482398 -36.01925 \nL 180.012874 -36.01925 \nL 187.626103 -36.01925 \nL 195.239331 -36.01925 \nL 202.769807 -36.01925 \nL 210.300283 -36.01925 \nL 217.913512 -36.01925 \nL 225.526741 -36.01925 \nL 232.974464 -36.01925 \nL 240.50494 -36.01925 \nL 248.118169 -36.01925 \nL 255.731397 -36.01925 \nL 263.179121 -36.01925 \nL 270.709597 -36.01925 \nL 278.322825 -36.01925 \nL 285.936054 -36.01925 \nL 293.383777 -36.01925 \nL 300.914253 -36.01925 \nL 308.527482 -36.01925 \nL 316.140711 -36.01925 \nL 323.671187 -36.01925 \nL 331.201663 -36.01925 \nL 338.814891 -36.01925 \nL 346.42812 -36.01925 \nL 353.875843 -36.01925 \nL 361.406319 -36.01925 \nL 369.019548 -36.01925 \nL 376.632776 -36.01925 \nL 384.0805 -36.01925 \nL 391.610976 -36.01925 \nL 399.224205 -36.01925 \nL 399.224205 -225.779448 \nL 399.224205 -225.779448 \nL 391.610976 -227.663548 \nL 384.0805 -230.418211 \nL 376.632776 -240.114162 \nL 369.019548 -245.097424 \nL 361.406319 -249.765076 \nL 353.875843 -248.975765 \nL 346.42812 -253.39429 \nL 338.814891 -256.67988 \nL 331.201663 -259.214056 \nL 323.671187 -262.365169 \nL 316.140711 -262.81925 \nL 308.527482 -259.375213 \nL 300.914253 -260.387227 \nL 293.383777 -255.489129 \nL 285.936054 -254.723524 \nL 278.322825 -244.675395 \nL 270.709597 -240.749122 \nL 263.179121 -228.151623 \nL 255.731397 -225.479033 \nL 248.118169 -220.6061 \nL 240.50494 -213.986372 \nL 232.974464 -208.202578 \nL 225.526741 -208.860841 \nL 217.913512 -212.516063 \nL 210.300283 -215.665731 \nL 202.769807 -215.44445 \nL 195.239331 -218.506246 \nL 187.626103 -221.116148 \nL 180.012874 -224.293006 \nL 172.482398 -218.377032 \nL 165.034675 -220.064879 \nL 157.421446 -225.188381 \nL 149.808218 -226.343129 \nL 142.277742 -222.767817 \nL 134.830018 -224.282581 \nL 127.216789 -218.276569 \nL 119.603561 -215.106889 \nL 112.073085 -210.651767 \nL 104.625361 -211.751176 \nL 97.012133 -208.199493 \nL 89.398904 -209.324696 \nL 81.868428 -204.066441 \nL 74.337952 -205.632048 \nL 66.724724 -208.803339 \nL 59.111495 -210.192146 \nL 51.581019 -206.982226 \nL 44.133295 -209.231911 \nz\n\"/>\n    </defs>\n    <g clip-path=\"url(#p4d66735d84)\">\n     <use xlink:href=\"#mbd99b5594c\" x=\"0\" y=\"313.316262\" style=\"fill: #e6f1fb; fill-opacity: 0.6\"/>\n    </g>\n   </g>\n   <g id=\"patch_3\">\n    <path d=\"M 26.37875 277.297012 \nL 416.97875 277.297012 \n\" style=\"fill: none; stroke: #bdbdbd; stroke-linejoin: miter; stroke-linecap: square\"/>\n   </g>\n   <g id=\"line2d_25\">\n    <path d=\"M 44.133295 104.084352 \nL 51.581019 106.334037 \nL 59.111495 103.124117 \nL 66.724724 104.512923 \nL 74.337952 107.684215 \nL 81.868428 109.249821 \nL 89.398904 103.991566 \nL 97.012133 105.116769 \nL 104.625361 101.565086 \nL 112.073085 102.664495 \nL 119.603561 98.209373 \nL 127.216789 95.039694 \nL 134.830018 89.033681 \nL 142.277742 90.548446 \nL 149.808218 86.973134 \nL 157.421446 88.127882 \nL 165.034675 93.251383 \nL 172.482398 94.93923 \nL 180.012874 89.023257 \nL 187.626103 92.200114 \nL 195.239331 94.810016 \nL 202.769807 97.871812 \nL 210.300283 97.650532 \nL 217.913512 100.800199 \nL 225.526741 104.455422 \nL 232.974464 105.113685 \nL 240.50494 99.32989 \nL 248.118169 92.710163 \nL 255.731397 87.837229 \nL 263.179121 85.164639 \nL 270.709597 72.56714 \nL 278.322825 68.640868 \nL 285.936054 58.592738 \nL 293.383777 57.827134 \nL 300.914253 52.929036 \nL 308.527482 53.941049 \nL 316.140711 50.497013 \nL 323.671187 50.951094 \nL 331.201663 54.102207 \nL 338.814891 56.636382 \nL 346.42812 59.921972 \nL 353.875843 64.340498 \nL 361.406319 63.551187 \nL 369.019548 68.218839 \nL 376.632776 73.2021 \nL 384.0805 82.898051 \nL 391.610976 85.652715 \nL 399.224205 87.536814 \n\" clip-path=\"url(#p4d66735d84)\" style=\"fill: none; stroke: #1f77b4; stroke-linecap: round\"/>\n   </g>\n   <g id=\"text_16\">\n    <!-- Real Defense Spending -->\n    <g transform=\"translate(26.37875 17.837812) scale(0.14 -0.14)\">\n     <defs>\n      <path id=\"DejaVuSans-52\" d=\"M 2841 2188 \nQ 3044 2119 3236 1894 \nQ 3428 1669 3622 1275 \nL 4263 0 \nL 3584 0 \nL 2988 1197 \nQ 2756 1666 2539 1819 \nQ 2322 1972 1947 1972 \nL 1259 1972 \nL 1259 0 \nL 628 0 \nL 628 4666 \nL 2053 4666 \nQ 2853 4666 3247 4331 \nQ 3641 3997 3641 3322 \nQ 3641 2881 3436 2590 \nQ 3231 2300 2841 2188 \nz\nM 1259 4147 \nL 1259 2491 \nL 2053 2491 \nQ 2509 2491 2742 2702 \nQ 2975 2913 2975 3322 \nQ 2975 3731 2742 3939 \nQ 2509 4147 2053 4147 \nL 1259 4147 \nz\n\" transform=\"scale(0.015625)\"/>\n      <path id=\"DejaVuSans-65\" d=\"M 3597 1894 \nL 3597 1613 \nL 953 1613 \nQ 991 1019 1311 708 \nQ 1631 397 2203 397 \nQ 2534 397 2845 478 \nQ 3156 559 3463 722 \nL 3463 178 \nQ 3153 47 2828 -22 \nQ 2503 -91 2169 -91 \nQ 1331 -91 842 396 \nQ 353 884 353 1716 \nQ 353 2575 817 3079 \nQ 1281 3584 2069 3584 \nQ 2775 3584 3186 3129 \nQ 3597 2675 3597 1894 \nz\nM 3022 2063 \nQ 3016 2534 2758 2815 \nQ 2500 3097 2075 3097 \nQ 1594 3097 1305 2825 \nQ 1016 2553 972 2059 \nL 3022 2063 \nz\n\" transform=\"scale(0.015625)\"/>\n      <path id=\"DejaVuSans-61\" d=\"M 2194 1759 \nQ 1497 1759 1228 1600 \nQ 959 1441 959 1056 \nQ 959 750 1161 570 \nQ 1363 391 1709 391 \nQ 2188 391 2477 730 \nQ 2766 1069 2766 1631 \nL 2766 1759 \nL 2194 1759 \nz\nM 3341 1997 \nL 3341 0 \nL 2766 0 \nL 2766 531 \nQ 2569 213 2275 61 \nQ 1981 -91 1556 -91 \nQ 1019 -91 701 211 \nQ 384 513 384 1019 \nQ 384 1609 779 1909 \nQ 1175 2209 1959 2209 \nL 2766 2209 \nL 2766 2266 \nQ 2766 2663 2505 2880 \nQ 2244 3097 1772 3097 \nQ 1472 3097 1187 3025 \nQ 903 2953 641 2809 \nL 641 3341 \nQ 956 3463 1253 3523 \nQ 1550 3584 1831 3584 \nQ 2591 3584 2966 3190 \nQ 3341 2797 3341 1997 \nz\n\" transform=\"scale(0.015625)\"/>\n      <path id=\"DejaVuSans-6c\" d=\"M 603 4863 \nL 1178 4863 \nL 1178 0 \nL 603 0 \nL 603 4863 \nz\n\" transform=\"scale(0.015625)\"/>\n      <path id=\"DejaVuSans-20\" transform=\"scale(0.015625)\"/>\n      <path id=\"DejaVuSans-44\" d=\"M 1259 4147 \nL 1259 519 \nL 2022 519 \nQ 2988 519 3436 956 \nQ 3884 1394 3884 2338 \nQ 3884 3275 3436 3711 \nQ 2988 4147 2022 4147 \nL 1259 4147 \nz\nM 628 4666 \nL 1925 4666 \nQ 3281 4666 3915 4102 \nQ 4550 3538 4550 2338 \nQ 4550 1131 3912 565 \nQ 3275 0 1925 0 \nL 628 0 \nL 628 4666 \nz\n\" transform=\"scale(0.015625)\"/>\n      <path id=\"DejaVuSans-66\" d=\"M 2375 4863 \nL 2375 4384 \nL 1825 4384 \nQ 1516 4384 1395 4259 \nQ 1275 4134 1275 3809 \nL 1275 3500 \nL 2222 3500 \nL 2222 3053 \nL 1275 3053 \nL 1275 0 \nL 697 0 \nL 697 3053 \nL 147 3053 \nL 147 3500 \nL 697 3500 \nL 697 3744 \nQ 697 4328 969 4595 \nQ 1241 4863 1831 4863 \nL 2375 4863 \nz\n\" transform=\"scale(0.015625)\"/>\n      <path id=\"DejaVuSans-6e\" d=\"M 3513 2113 \nL 3513 0 \nL 2938 0 \nL 2938 2094 \nQ 2938 2591 2744 2837 \nQ 2550 3084 2163 3084 \nQ 1697 3084 1428 2787 \nQ 1159 2491 1159 1978 \nL 1159 0 \nL 581 0 \nL 581 3500 \nL 1159 3500 \nL 1159 2956 \nQ 1366 3272 1645 3428 \nQ 1925 3584 2291 3584 \nQ 2894 3584 3203 3211 \nQ 3513 2838 3513 2113 \nz\n\" transform=\"scale(0.015625)\"/>\n      <path id=\"DejaVuSans-73\" d=\"M 2834 3397 \nL 2834 2853 \nQ 2591 2978 2328 3040 \nQ 2066 3103 1784 3103 \nQ 1356 3103 1142 2972 \nQ 928 2841 928 2578 \nQ 928 2378 1081 2264 \nQ 1234 2150 1697 2047 \nL 1894 2003 \nQ 2506 1872 2764 1633 \nQ 3022 1394 3022 966 \nQ 3022 478 2636 193 \nQ 2250 -91 1575 -91 \nQ 1294 -91 989 -36 \nQ 684 19 347 128 \nL 347 722 \nQ 666 556 975 473 \nQ 1284 391 1588 391 \nQ 1994 391 2212 530 \nQ 2431 669 2431 922 \nQ 2431 1156 2273 1281 \nQ 2116 1406 1581 1522 \nL 1381 1569 \nQ 847 1681 609 1914 \nQ 372 2147 372 2553 \nQ 372 3047 722 3315 \nQ 1072 3584 1716 3584 \nQ 2034 3584 2315 3537 \nQ 2597 3491 2834 3397 \nz\n\" transform=\"scale(0.015625)\"/>\n      <path id=\"DejaVuSans-53\" d=\"M 3425 4513 \nL 3425 3897 \nQ 3066 4069 2747 4153 \nQ 2428 4238 2131 4238 \nQ 1616 4238 1336 4038 \nQ 1056 3838 1056 3469 \nQ 1056 3159 1242 3001 \nQ 1428 2844 1947 2747 \nL 2328 2669 \nQ 3034 2534 3370 2195 \nQ 3706 1856 3706 1288 \nQ 3706 609 3251 259 \nQ 2797 -91 1919 -91 \nQ 1588 -91 1214 -16 \nQ 841 59 441 206 \nL 441 856 \nQ 825 641 1194 531 \nQ 1563 422 1919 422 \nQ 2459 422 2753 634 \nQ 3047 847 3047 1241 \nQ 3047 1584 2836 1778 \nQ 2625 1972 2144 2069 \nL 1759 2144 \nQ 1053 2284 737 2584 \nQ 422 2884 422 3419 \nQ 422 4038 858 4394 \nQ 1294 4750 2059 4750 \nQ 2388 4750 2728 4690 \nQ 3069 4631 3425 4513 \nz\n\" transform=\"scale(0.015625)\"/>\n      <path id=\"DejaVuSans-70\" d=\"M 1159 525 \nL 1159 -1331 \nL 581 -1331 \nL 581 3500 \nL 1159 3500 \nL 1159 2969 \nQ 1341 3281 1617 3432 \nQ 1894 3584 2278 3584 \nQ 2916 3584 3314 3078 \nQ 3713 2572 3713 1747 \nQ 3713 922 3314 415 \nQ 2916 -91 2278 -91 \nQ 1894 -91 1617 61 \nQ 1341 213 1159 525 \nz\nM 3116 1747 \nQ 3116 2381 2855 2742 \nQ 2594 3103 2138 3103 \nQ 1681 3103 1420 2742 \nQ 1159 2381 1159 1747 \nQ 1159 1113 1420 752 \nQ 1681 391 2138 391 \nQ 2594 391 2855 752 \nQ 3116 1113 3116 1747 \nz\n\" transform=\"scale(0.015625)\"/>\n      <path id=\"DejaVuSans-64\" d=\"M 2906 2969 \nL 2906 4863 \nL 3481 4863 \nL 3481 0 \nL 2906 0 \nL 2906 525 \nQ 2725 213 2448 61 \nQ 2172 -91 1784 -91 \nQ 1150 -91 751 415 \nQ 353 922 353 1747 \nQ 353 2572 751 3078 \nQ 1150 3584 1784 3584 \nQ 2172 3584 2448 3432 \nQ 2725 3281 2906 2969 \nz\nM 947 1747 \nQ 947 1113 1208 752 \nQ 1469 391 1925 391 \nQ 2381 391 2643 752 \nQ 2906 1113 2906 1747 \nQ 2906 2381 2643 2742 \nQ 2381 3103 1925 3103 \nQ 1469 3103 1208 2742 \nQ 947 2381 947 1747 \nz\n\" transform=\"scale(0.015625)\"/>\n      <path id=\"DejaVuSans-69\" d=\"M 603 3500 \nL 1178 3500 \nL 1178 0 \nL 603 0 \nL 603 3500 \nz\nM 603 4863 \nL 1178 4863 \nL 1178 4134 \nL 603 4134 \nL 603 4863 \nz\n\" transform=\"scale(0.015625)\"/>\n      <path id=\"DejaVuSans-67\" d=\"M 2906 1791 \nQ 2906 2416 2648 2759 \nQ 2391 3103 1925 3103 \nQ 1463 3103 1205 2759 \nQ 947 2416 947 1791 \nQ 947 1169 1205 825 \nQ 1463 481 1925 481 \nQ 2391 481 2648 825 \nQ 2906 1169 2906 1791 \nz\nM 3481 434 \nQ 3481 -459 3084 -895 \nQ 2688 -1331 1869 -1331 \nQ 1566 -1331 1297 -1286 \nQ 1028 -1241 775 -1147 \nL 775 -588 \nQ 1028 -725 1275 -790 \nQ 1522 -856 1778 -856 \nQ 2344 -856 2625 -561 \nQ 2906 -266 2906 331 \nL 2906 616 \nQ 2728 306 2450 153 \nQ 2172 0 1784 0 \nQ 1141 0 747 490 \nQ 353 981 353 1791 \nQ 353 2603 747 3093 \nQ 1141 3584 1784 3584 \nQ 2172 3584 2450 3431 \nQ 2728 3278 2906 2969 \nL 2906 3500 \nL 3481 3500 \nL 3481 434 \nz\n\" transform=\"scale(0.015625)\"/>\n     </defs>\n     <use xlink:href=\"#DejaVuSans-52\"/>\n     <use xlink:href=\"#DejaVuSans-65\" transform=\"translate(64.982422 0)\"/>\n     <use xlink:href=\"#DejaVuSans-61\" transform=\"translate(126.505859 0)\"/>\n     <use xlink:href=\"#DejaVuSans-6c\" transform=\"translate(187.785156 0)\"/>\n     <use xlink:href=\"#DejaVuSans-20\" transform=\"translate(215.568359 0)\"/>\n     <use xlink:href=\"#DejaVuSans-44\" transform=\"translate(247.355469 0)\"/>\n     <use xlink:href=\"#DejaVuSans-65\" transform=\"translate(324.357422 0)\"/>\n     <use xlink:href=\"#DejaVuSans-66\" transform=\"translate(385.880859 0)\"/>\n     <use xlink:href=\"#DejaVuSans-65\" transform=\"translate(421.085938 0)\"/>\n     <use xlink:href=\"#DejaVuSans-6e\" transform=\"translate(482.609375 0)\"/>\n     <use xlink:href=\"#DejaVuSans-73\" transform=\"translate(545.988281 0)\"/>\n     <use xlink:href=\"#DejaVuSans-65\" transform=\"translate(598.087891 0)\"/>\n     <use xlink:href=\"#DejaVuSans-20\" transform=\"translate(659.611328 0)\"/>\n     <use xlink:href=\"#DejaVuSans-53\" transform=\"translate(691.398438 0)\"/>\n     <use xlink:href=\"#DejaVuSans-70\" transform=\"translate(754.875 0)\"/>\n     <use xlink:href=\"#DejaVuSans-65\" transform=\"translate(818.351562 0)\"/>\n     <use xlink:href=\"#DejaVuSans-6e\" transform=\"translate(879.875 0)\"/>\n     <use xlink:href=\"#DejaVuSans-64\" transform=\"translate(943.253906 0)\"/>\n     <use xlink:href=\"#DejaVuSans-69\" transform=\"translate(1006.730469 0)\"/>\n     <use xlink:href=\"#DejaVuSans-6e\" transform=\"translate(1034.513672 0)\"/>\n     <use xlink:href=\"#DejaVuSans-67\" transform=\"translate(1097.892578 0)\"/>\n    </g>\n   </g>\n   <g id=\"text_17\">\n    <!-- Billions -->\n    <g style=\"fill: #555555\" transform=\"translate(26.37875 27.817012) scale(0.09 -0.09)\">\n     <defs>\n      <path id=\"DejaVuSans-42\" d=\"M 1259 2228 \nL 1259 519 \nL 2272 519 \nQ 2781 519 3026 730 \nQ 3272 941 3272 1375 \nQ 3272 1813 3026 2020 \nQ 2781 2228 2272 2228 \nL 1259 2228 \nz\nM 1259 4147 \nL 1259 2741 \nL 2194 2741 \nQ 2656 2741 2882 2914 \nQ 3109 3088 3109 3444 \nQ 3109 3797 2882 3972 \nQ 2656 4147 2194 4147 \nL 1259 4147 \nz\nM 628 4666 \nL 2241 4666 \nQ 2963 4666 3353 4366 \nQ 3744 4066 3744 3513 \nQ 3744 3084 3544 2831 \nQ 3344 2578 2956 2516 \nQ 3422 2416 3680 2098 \nQ 3938 1781 3938 1306 \nQ 3938 681 3513 340 \nQ 3088 0 2303 0 \nL 628 0 \nL 628 4666 \nz\n\" transform=\"scale(0.015625)\"/>\n      <path id=\"DejaVuSans-6f\" d=\"M 1959 3097 \nQ 1497 3097 1228 2736 \nQ 959 2375 959 1747 \nQ 959 1119 1226 758 \nQ 1494 397 1959 397 \nQ 2419 397 2687 759 \nQ 2956 1122 2956 1747 \nQ 2956 2369 2687 2733 \nQ 2419 3097 1959 3097 \nz\nM 1959 3584 \nQ 2709 3584 3137 3096 \nQ 3566 2609 3566 1747 \nQ 3566 888 3137 398 \nQ 2709 -91 1959 -91 \nQ 1206 -91 779 398 \nQ 353 888 353 1747 \nQ 353 2609 779 3096 \nQ 1206 3584 1959 3584 \nz\n\" transform=\"scale(0.015625)\"/>\n     </defs>\n     <use xlink:href=\"#DejaVuSans-42\"/>\n     <use xlink:href=\"#DejaVuSans-69\" transform=\"translate(68.603516 0)\"/>\n     <use xlink:href=\"#DejaVuSans-6c\" transform=\"translate(96.386719 0)\"/>\n     <use xlink:href=\"#DejaVuSans-6c\" transform=\"translate(124.169922 0)\"/>\n     <use xlink:href=\"#DejaVuSans-69\" transform=\"translate(151.953125 0)\"/>\n     <use xlink:href=\"#DejaVuSans-6f\" transform=\"translate(179.736328 0)\"/>\n     <use xlink:href=\"#DejaVuSans-6e\" transform=\"translate(240.917969 0)\"/>\n     <use xlink:href=\"#DejaVuSans-73\" transform=\"translate(304.296875 0)\"/>\n    </g>\n   </g>\n   <g id=\"text_18\">\n    <!-- U.S. Bureau of Economic Analysis via FRED -->\n    <g transform=\"translate(26.37875 304.452513) scale(0.08 -0.08)\">\n     <defs>\n      <path id=\"DejaVuSans-55\" d=\"M 556 4666 \nL 1191 4666 \nL 1191 1831 \nQ 1191 1081 1462 751 \nQ 1734 422 2344 422 \nQ 2950 422 3222 751 \nQ 3494 1081 3494 1831 \nL 3494 4666 \nL 4128 4666 \nL 4128 1753 \nQ 4128 841 3676 375 \nQ 3225 -91 2344 -91 \nQ 1459 -91 1007 375 \nQ 556 841 556 1753 \nL 556 4666 \nz\n\" transform=\"scale(0.015625)\"/>\n      <path id=\"DejaVuSans-2e\" d=\"M 684 794 \nL 1344 794 \nL 1344 0 \nL 684 0 \nL 684 794 \nz\n\" transform=\"scale(0.015625)\"/>\n      <path id=\"DejaVuSans-75\" d=\"M 544 1381 \nL 544 3500 \nL 1119 3500 \nL 1119 1403 \nQ 1119 906 1312 657 \nQ 1506 409 1894 409 \nQ 2359 409 2629 706 \nQ 2900 1003 2900 1516 \nL 2900 3500 \nL 3475 3500 \nL 3475 0 \nL 2900 0 \nL 2900 538 \nQ 2691 219 2414 64 \nQ 2138 -91 1772 -91 \nQ 1169 -91 856 284 \nQ 544 659 544 1381 \nz\nM 1991 3584 \nL 1991 3584 \nz\n\" transform=\"scale(0.015625)\"/>\n      <path id=\"DejaVuSans-72\" d=\"M 2631 2963 \nQ 2534 3019 2420 3045 \nQ 2306 3072 2169 3072 \nQ 1681 3072 1420 2755 \nQ 1159 2438 1159 1844 \nL 1159 0 \nL 581 0 \nL 581 3500 \nL 1159 3500 \nL 1159 2956 \nQ 1341 3275 1631 3429 \nQ 1922 3584 2338 3584 \nQ 2397 3584 2469 3576 \nQ 2541 3569 2628 3553 \nL 2631 2963 \nz\n\" transform=\"scale(0.015625)\"/>\n      <path id=\"DejaVuSans-45\" d=\"M 628 4666 \nL 3578 4666 \nL 3578 4134 \nL 1259 4134 \nL 1259 2753 \nL 3481 2753 \nL 3481 2222 \nL 1259 2222 \nL 1259 531 \nL 3634 531 \nL 3634 0 \nL 628 0 \nL 628 4666 \nz\n\" transform=\"scale(0.015625)\"/>\n      <path id=\"DejaVuSans-63\" d=\"M 3122 3366 \nL 3122 2828 \nQ 2878 2963 2633 3030 \nQ 2388 3097 2138 3097 \nQ 1578 3097 1268 2742 \nQ 959 2388 959 1747 \nQ 959 1106 1268 751 \nQ 1578 397 2138 397 \nQ 2388 397 2633 464 \nQ 2878 531 3122 666 \nL 3122 134 \nQ 2881 22 2623 -34 \nQ 2366 -91 2075 -91 \nQ 1284 -91 818 406 \nQ 353 903 353 1747 \nQ 353 2603 823 3093 \nQ 1294 3584 2113 3584 \nQ 2378 3584 2631 3529 \nQ 2884 3475 3122 3366 \nz\n\" transform=\"scale(0.015625)\"/>\n      <path id=\"DejaVuSans-6d\" d=\"M 3328 2828 \nQ 3544 3216 3844 3400 \nQ 4144 3584 4550 3584 \nQ 5097 3584 5394 3201 \nQ 5691 2819 5691 2113 \nL 5691 0 \nL 5113 0 \nL 5113 2094 \nQ 5113 2597 4934 2840 \nQ 4756 3084 4391 3084 \nQ 3944 3084 3684 2787 \nQ 3425 2491 3425 1978 \nL 3425 0 \nL 2847 0 \nL 2847 2094 \nQ 2847 2600 2669 2842 \nQ 2491 3084 2119 3084 \nQ 1678 3084 1418 2786 \nQ 1159 2488 1159 1978 \nL 1159 0 \nL 581 0 \nL 581 3500 \nL 1159 3500 \nL 1159 2956 \nQ 1356 3278 1631 3431 \nQ 1906 3584 2284 3584 \nQ 2666 3584 2933 3390 \nQ 3200 3197 3328 2828 \nz\n\" transform=\"scale(0.015625)\"/>\n      <path id=\"DejaVuSans-41\" d=\"M 2188 4044 \nL 1331 1722 \nL 3047 1722 \nL 2188 4044 \nz\nM 1831 4666 \nL 2547 4666 \nL 4325 0 \nL 3669 0 \nL 3244 1197 \nL 1141 1197 \nL 716 0 \nL 50 0 \nL 1831 4666 \nz\n\" transform=\"scale(0.015625)\"/>\n      <path id=\"DejaVuSans-79\" d=\"M 2059 -325 \nQ 1816 -950 1584 -1140 \nQ 1353 -1331 966 -1331 \nL 506 -1331 \nL 506 -850 \nL 844 -850 \nQ 1081 -850 1212 -737 \nQ 1344 -625 1503 -206 \nL 1606 56 \nL 191 3500 \nL 800 3500 \nL 1894 763 \nL 2988 3500 \nL 3597 3500 \nL 2059 -325 \nz\n\" transform=\"scale(0.015625)\"/>\n      <path id=\"DejaVuSans-76\" d=\"M 191 3500 \nL 800 3500 \nL 1894 563 \nL 2988 3500 \nL 3597 3500 \nL 2284 0 \nL 1503 0 \nL 191 3500 \nz\n\" transform=\"scale(0.015625)\"/>\n      <path id=\"DejaVuSans-46\" d=\"M 628 4666 \nL 3309 4666 \nL 3309 4134 \nL 1259 4134 \nL 1259 2759 \nL 3109 2759 \nL 3109 2228 \nL 1259 2228 \nL 1259 0 \nL 628 0 \nL 628 4666 \nz\n\" transform=\"scale(0.015625)\"/>\n     </defs>\n     <use xlink:href=\"#DejaVuSans-55\"/>\n     <use xlink:href=\"#DejaVuSans-2e\" transform=\"translate(73.193359 0)\"/>\n     <use xlink:href=\"#DejaVuSans-53\" transform=\"translate(104.980469 0)\"/>\n     <use xlink:href=\"#DejaVuSans-2e\" transform=\"translate(168.457031 0)\"/>\n     <use xlink:href=\"#DejaVuSans-20\" transform=\"translate(200.244141 0)\"/>\n     <use xlink:href=\"#DejaVuSans-42\" transform=\"translate(232.03125 0)\"/>\n     <use xlink:href=\"#DejaVuSans-75\" transform=\"translate(300.634766 0)\"/>\n     <use xlink:href=\"#DejaVuSans-72\" transform=\"translate(364.013672 0)\"/>\n     <use xlink:href=\"#DejaVuSans-65\" transform=\"translate(402.876953 0)\"/>\n     <use xlink:href=\"#DejaVuSans-61\" transform=\"translate(464.400391 0)\"/>\n     <use xlink:href=\"#DejaVuSans-75\" transform=\"translate(525.679688 0)\"/>\n     <use xlink:href=\"#DejaVuSans-20\" transform=\"translate(589.058594 0)\"/>\n     <use xlink:href=\"#DejaVuSans-6f\" transform=\"translate(620.845703 0)\"/>\n     <use xlink:href=\"#DejaVuSans-66\" transform=\"translate(682.027344 0)\"/>\n     <use xlink:href=\"#DejaVuSans-20\" transform=\"translate(717.232422 0)\"/>\n     <use xlink:href=\"#DejaVuSans-45\" transform=\"translate(749.019531 0)\"/>\n     <use xlink:href=\"#DejaVuSans-63\" transform=\"translate(812.203125 0)\"/>\n     <use xlink:href=\"#DejaVuSans-6f\" transform=\"translate(867.183594 0)\"/>\n     <use xlink:href=\"#DejaVuSans-6e\" transform=\"translate(928.365234 0)\"/>\n     <use xlink:href=\"#DejaVuSans-6f\" transform=\"translate(991.744141 0)\"/>\n     <use xlink:href=\"#DejaVuSans-6d\" transform=\"translate(1052.925781 0)\"/>\n     <use xlink:href=\"#DejaVuSans-69\" transform=\"translate(1150.337891 0)\"/>\n     <use xlink:href=\"#DejaVuSans-63\" transform=\"translate(1178.121094 0)\"/>\n     <use xlink:href=\"#DejaVuSans-20\" transform=\"translate(1233.101562 0)\"/>\n     <use xlink:href=\"#DejaVuSans-41\" transform=\"translate(1264.888672 0)\"/>\n     <use xlink:href=\"#DejaVuSans-6e\" transform=\"translate(1333.296875 0)\"/>\n     <use xlink:href=\"#DejaVuSans-61\" transform=\"translate(1396.675781 0)\"/>\n     <use xlink:href=\"#DejaVuSans-6c\" transform=\"translate(1457.955078 0)\"/>\n     <use xlink:href=\"#DejaVuSans-79\" transform=\"translate(1485.738281 0)\"/>\n     <use xlink:href=\"#DejaVuSans-73\" transform=\"translate(1544.917969 0)\"/>\n     <use xlink:href=\"#DejaVuSans-69\" transform=\"translate(1597.017578 0)\"/>\n     <use xlink:href=\"#DejaVuSans-73\" transform=\"translate(1624.800781 0)\"/>\n     <use xlink:href=\"#DejaVuSans-20\" transform=\"translate(1676.900391 0)\"/>\n     <use xlink:href=\"#DejaVuSans-76\" transform=\"translate(1708.6875 0)\"/>\n     <use xlink:href=\"#DejaVuSans-69\" transform=\"translate(1767.867188 0)\"/>\n     <use xlink:href=\"#DejaVuSans-61\" transform=\"translate(1795.650391 0)\"/>\n     <use xlink:href=\"#DejaVuSans-20\" transform=\"translate(1856.929688 0)\"/>\n     <use xlink:href=\"#DejaVuSans-46\" transform=\"translate(1888.716797 0)\"/>\n     <use xlink:href=\"#DejaVuSans-52\" transform=\"translate(1946.236328 0)\"/>\n     <use xlink:href=\"#DejaVuSans-45\" transform=\"translate(2015.71875 0)\"/>\n     <use xlink:href=\"#DejaVuSans-44\" transform=\"translate(2078.902344 0)\"/>\n    </g>\n   </g>\n  </g>\n </g>\n <defs>\n  <clipPath id=\"p4d66735d84\">\n   <rect x=\"26.37875\" y=\"27.817012\" width=\"390.6\" height=\"249.48\"/>\n  </clipPath>\n </defs>\n</svg>\n"
          },
          "metadata": {}
        }
      ]
    },
    {
      "cell_type": "code",
      "source": [],
      "metadata": {
        "id": "MVznneP1vBLi"
      },
      "execution_count": 3,
      "outputs": []
    }
  ]
}