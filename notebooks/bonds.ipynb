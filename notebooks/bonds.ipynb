{
  "nbformat": 4,
  "nbformat_minor": 0,
  "metadata": {
    "colab": {
      "provenance": [],
      "authorship_tag": "ABX9TyMz8FnL4mGQpqNvuB1OSgxZ",
      "include_colab_link": true
    },
    "kernelspec": {
      "name": "python3",
      "display_name": "Python 3"
    },
    "language_info": {
      "name": "python"
    }
  },
  "cells": [
    {
      "cell_type": "markdown",
      "metadata": {
        "id": "view-in-github",
        "colab_type": "text"
      },
      "source": [
        "<a href=\"https://colab.research.google.com/github/pharringtonp19/presidential-policies/blob/main/notebooks/bonds.ipynb\" target=\"_parent\"><img src=\"https://colab.research.google.com/assets/colab-badge.svg\" alt=\"Open In Colab\"/></a>"
      ]
    },
    {
      "cell_type": "code",
      "execution_count": 1,
      "metadata": {
        "id": "3SGb99rNEuan"
      },
      "outputs": [],
      "source": [
        "import jax\n",
        "import jax.numpy as jnp\n",
        "import matplotlib.pyplot as plt"
      ]
    },
    {
      "cell_type": "code",
      "source": [
        "def present_value(face_value, coupon, discount_rate, years):\n",
        "    r = discount_rate / 100.0\n",
        "    c = coupon / 100.0 * face_value   # annual coupon payment in dollars\n",
        "    xs = jnp.array([1 / (1 + r)**t for t in range(1, years + 1)])\n",
        "    return face_value / (1 + r)**years + c * jnp.sum(xs)"
      ],
      "metadata": {
        "id": "tYnh6323Ex2I"
      },
      "execution_count": 4,
      "outputs": []
    },
    {
      "cell_type": "code",
      "source": [
        "present_value(1000, 5, 6, 10)"
      ],
      "metadata": {
        "colab": {
          "base_uri": "https://localhost:8080/"
        },
        "id": "IB1WSnQUFRmw",
        "outputId": "8b05d2d2-7874-4b9b-a4ef-c26a77bad1a4"
      },
      "execution_count": 5,
      "outputs": [
        {
          "output_type": "execute_result",
          "data": {
            "text/plain": [
              "Array(926.3991, dtype=float32)"
            ]
          },
          "metadata": {},
          "execution_count": 5
        }
      ]
    },
    {
      "cell_type": "code",
      "source": [
        "jax.grad(present_value, argnums=2)(1000.0, 5.0, 6.0, 10)"
      ],
      "metadata": {
        "colab": {
          "base_uri": "https://localhost:8080/"
        },
        "id": "d_AeRLiNFUXh",
        "outputId": "c2d0a925-773f-4e34-b522-797c2ed21ef6"
      },
      "execution_count": 8,
      "outputs": [
        {
          "output_type": "execute_result",
          "data": {
            "text/plain": [
              "Array(-70.113884, dtype=float32, weak_type=True)"
            ]
          },
          "metadata": {},
          "execution_count": 8
        }
      ]
    },
    {
      "cell_type": "code",
      "source": [
        "ix = jnp.linspace(1., 8., 10)\n",
        "ys = jax.vmap(jax.grad(present_value, argnums=2), in_axes=(None, None, 0, None))(1000.0, 5.0, ix, 10)"
      ],
      "metadata": {
        "id": "BKPgAzq5Kf8G"
      },
      "execution_count": 10,
      "outputs": []
    },
    {
      "cell_type": "code",
      "source": [
        "plt.plot(ix, ys)\n",
        "plt.show()"
      ],
      "metadata": {
        "colab": {
          "base_uri": "https://localhost:8080/",
          "height": 430
        },
        "id": "PtDaP7OiK6c0",
        "outputId": "1e108784-a708-4f08-e97e-dbd1b832f54f"
      },
      "execution_count": 11,
      "outputs": [
        {
          "output_type": "display_data",
          "data": {
            "text/plain": [
              "<Figure size 640x480 with 1 Axes>"
            ],
            "image/png": "[encoded data removed]"
          },
          "metadata": {}
        }
      ]
    },
    {
      "cell_type": "code",
      "source": [],
      "metadata": {
        "id": "RxO8ImNLK-zz"
      },
      "execution_count": null,
      "outputs": []
    }
  ]
}